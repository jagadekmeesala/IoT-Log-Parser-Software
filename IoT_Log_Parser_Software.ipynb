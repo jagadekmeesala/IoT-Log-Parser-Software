{
  "nbformat": 4,
  "nbformat_minor": 0,
  "metadata": {
    "colab": {
      "provenance": [],
      "include_colab_link": true
    },
    "kernelspec": {
      "name": "python3",
      "display_name": "Python 3"
    },
    "language_info": {
      "name": "python"
    }
  },
  "cells": [
    {
      "cell_type": "markdown",
      "metadata": {
        "id": "view-in-github",
        "colab_type": "text"
      },
      "source": [
        "<a href=\"https://colab.research.google.com/github/jagadekmeesala/IoT-Log-Parser-Software/blob/main/IoT_Log_Parser_Software.ipynb\" target=\"_parent\"><img src=\"https://colab.research.google.com/assets/colab-badge.svg\" alt=\"Open In Colab\"/></a>"
      ]
    },
    {
      "cell_type": "code",
      "execution_count": 1,
      "metadata": {
        "id": "yIevd4zmP599"
      },
      "outputs": [],
      "source": [
        "# IoT Log Parser - Smart City Assessment\n",
        "import base64\n",
        "import json\n",
        "import pandas as pd\n",
        "import matplotlib.pyplot as plt\n",
        "import seaborn as sns\n",
        "from PIL import Image\n",
        "import io\n",
        "import os"
      ]
    },
    {
      "cell_type": "code",
      "source": [
        "# Initialize storage\n",
        "parsed_data = []\n",
        "error_logs = []\n",
        "image_counter = 0\n",
        "output_image_dir = \"/content/decoded_images\""
      ],
      "metadata": {
        "id": "F9cbaDZMP8FW"
      },
      "execution_count": 2,
      "outputs": []
    },
    {
      "cell_type": "code",
      "source": [
        "# Ensure the output directory exists for images\n",
        "os.makedirs(output_image_dir, exist_ok=True)"
      ],
      "metadata": {
        "id": "qYoW7-HvQDjX"
      },
      "execution_count": 3,
      "outputs": []
    },
    {
      "cell_type": "code",
      "source": [
        "# Function to parse log lines dynamically\n",
        "def parse_log_line(line):\n",
        "    \"\"\"\n",
        "    Parse a single log line dynamically.\n",
        "    Handles JSON, Base64, and plain text entries.\n",
        "    \"\"\"\n",
        "    global image_counter\n",
        "    line_data = {}\n",
        "    try:\n",
        "        if line.startswith(\"BASE64:\"):\n",
        "            # Handle Base64 encoded line\n",
        "            base64_data = line[len(\"BASE64:\"):].strip()\n",
        "            decoded = base64.b64decode(base64_data)\n",
        "\n",
        "            # Try to parse as JSON, else save as an image\n",
        "            try:\n",
        "                line_data = json.loads(decoded.decode(\"utf-8\"))\n",
        "            except json.JSONDecodeError:\n",
        "                # Save as an image if decoding fails\n",
        "                image_counter += 1\n",
        "                image_path = f\"{output_image_dir}/image_{image_counter}.png\"\n",
        "                with open(image_path, \"wb\") as img_file:\n",
        "                    img_file.write(decoded)\n",
        "                line_data[\"image_path\"] = image_path\n",
        "        elif line.startswith(\"{\") and line.endswith(\"}\"):\n",
        "            # Handle JSON log line\n",
        "            line_data = json.loads(line.strip())\n",
        "        else:\n",
        "            # Handle plain text or error logs\n",
        "            if \"Exception\" in line or \"ERROR\" in line:\n",
        "                error_logs.append(line.strip())\n",
        "            else:\n",
        "                # Extract key-value pairs from plain text\n",
        "                for segment in line.split():\n",
        "                    if \"=\" in segment:\n",
        "                        key, value = segment.split(\"=\", 1)\n",
        "                        line_data[key] = value.strip()\n",
        "    except Exception as e:\n",
        "        # Log any parsing errors\n",
        "        error_logs.append(f\"Parsing error for line: {line.strip()} | Error: {str(e)}\")\n",
        "    return line_data"
      ],
      "metadata": {
        "id": "hJwlH25nQEtf"
      },
      "execution_count": 4,
      "outputs": []
    },
    {
      "cell_type": "code",
      "source": [
        "# Read log file and parse each line\n",
        "log_file_path = '/content/assignment_prod.log'  # Update this path if needed\n",
        "with open(log_file_path, 'r') as file:\n",
        "    for line in file:\n",
        "        parsed_line = parse_log_line(line)\n",
        "        if parsed_line:\n",
        "            parsed_data.append(parsed_line)"
      ],
      "metadata": {
        "id": "5-hutzenQKLH"
      },
      "execution_count": 5,
      "outputs": []
    },
    {
      "cell_type": "code",
      "source": [
        "# Convert parsed data to a DataFrame\n",
        "df = pd.DataFrame(parsed_data)"
      ],
      "metadata": {
        "id": "ieMdbijTQQx4"
      },
      "execution_count": 6,
      "outputs": []
    },
    {
      "cell_type": "code",
      "source": [
        "# Save error logs to a text file\n",
        "error_log_file = \"/content/error_logs.txt\"\n",
        "with open(error_log_file, \"w\") as error_file:\n",
        "    error_file.write(\"\\n\".join(error_logs))"
      ],
      "metadata": {
        "id": "ONDK06iFQTzI"
      },
      "execution_count": 7,
      "outputs": []
    },
    {
      "cell_type": "code",
      "source": [
        "# Display structured data and error log summary\n",
        "print(f\"Structured Data Sample (first 5 rows):\\n{df.head()}\")\n",
        "print(f\"\\nTotal Error Logs Captured: {len(error_logs)}\")\n",
        "print(f\"Error logs saved at: {error_log_file}\")"
      ],
      "metadata": {
        "colab": {
          "base_uri": "https://localhost:8080/"
        },
        "id": "dnujew5CQWcb",
        "outputId": "670382ea-e48e-4949-ffe2-e020ddc23612"
      },
      "execution_count": 8,
      "outputs": [
        {
          "output_type": "stream",
          "name": "stdout",
          "text": [
            "Structured Data Sample (first 5 rows):\n",
            "       user                   timestamp               ip   event  \\\n",
            "0  user_345  2024-11-19T07:21:40.994519     212.47.97.84  logout   \n",
            "1  user_461  2024-11-19T11:03:46.994557     40.68.245.11  update   \n",
            "2  user_266  2024-11-18T12:15:47.994574     74.33.75.142  update   \n",
            "3  user_325                         NaN  248.252.120.243     NaN   \n",
            "4   user_22                         NaN     85.210.52.53     NaN   \n",
            "\n",
            "                                             details action image_path  \n",
            "0  {'item_id': 7403, 'quantity': 1, 'price': 990.01}    NaN        NaN  \n",
            "1  {'item_id': 2160, 'quantity': 4, 'price': 809.12}    NaN        NaN  \n",
            "2  {'item_id': 5744, 'quantity': 4, 'price': 566.89}    NaN        NaN  \n",
            "3                                                NaN   STOP        NaN  \n",
            "4                                                NaN   STOP        NaN  \n",
            "\n",
            "Total Error Logs Captured: 1192\n",
            "Error logs saved at: /content/error_logs.txt\n"
          ]
        }
      ]
    },
    {
      "cell_type": "code",
      "source": [
        "# Visualization - Basic Analysis\n",
        "if not df.empty:\n",
        "    # Fill NaN values for better analysis\n",
        "    df.fillna(\"Unknown\", inplace=True)\n",
        "\n",
        "    # Visualize event distribution\n",
        "    plt.figure(figsize=(10, 6))\n",
        "    sns.countplot(data=df, x='event', order=df['event'].value_counts().index)\n",
        "    plt.title('Event Distribution')\n",
        "    plt.xticks(rotation=45)\n",
        "    plt.show()\n",
        "\n",
        "    # User activity over time (if timestamp is available)\n",
        "    if 'timestamp' in df.columns:\n",
        "        df['timestamp'] = pd.to_datetime(df['timestamp'], errors='coerce')\n",
        "        df.dropna(subset=['timestamp'], inplace=True)\n",
        "        plt.figure(figsize=(12, 6))\n",
        "        df['timestamp'].dt.hour.value_counts().sort_index().plot(kind='bar')\n",
        "        plt.title('Activity by Hour')\n",
        "        plt.xlabel('Hour of the Day')\n",
        "        plt.ylabel('Number of Events')\n",
        "        plt.show()"
      ],
      "metadata": {
        "colab": {
          "base_uri": "https://localhost:8080/",
          "height": 1000
        },
        "id": "-fFCgv0FQY7a",
        "outputId": "20b465fd-2b9a-4e04-e841-bf9e00155d42"
      },
      "execution_count": 9,
      "outputs": [
        {
          "output_type": "display_data",
          "data": {
            "text/plain": [
              "<Figure size 1000x600 with 1 Axes>"
            ],
            "image/png": "[encoded data removed]"
          },
          "metadata": {}
        },
        {
          "output_type": "display_data",
          "data": {
            "text/plain": [
              "<Figure size 1200x600 with 1 Axes>"
            ],
            "image/png": "[encoded data removed]"
          },
          "metadata": {}
        }
      ]
    },
    {
      "cell_type": "code",
      "source": [
        "from PIL import UnidentifiedImageError\n",
        "\n",
        "if image_counter > 0:\n",
        "    print(f\"\\nTotal Images Decoded: {image_counter}\")\n",
        "    print(f\"Images saved in: {output_image_dir}\")\n",
        "    for i in range(1, min(image_counter + 1, 6)):  # Display up to 5 images\n",
        "        img_path = f\"{output_image_dir}/image_{i}.png\"\n",
        "        print(f\"Attempting to display: {img_path}\")\n",
        "        try:\n",
        "            # Validate if the file is a valid image before opening\n",
        "            with Image.open(img_path) as img:\n",
        "                plt.figure()\n",
        "                plt.imshow(img)\n",
        "                plt.axis('off')\n",
        "                plt.title(f\"Decoded Image {i}\")\n",
        "                plt.show()\n",
        "        except UnidentifiedImageError:\n",
        "            print(f\"Error: {img_path} is not a valid image file.\")\n",
        "        except Exception as e:\n",
        "            print(f\"Unexpected error while opening {img_path}: {e}\")\n",
        "else:\n",
        "    print(\"No images decoded.\")"
      ],
      "metadata": {
        "colab": {
          "base_uri": "https://localhost:8080/"
        },
        "id": "DBZlmF03Qkwt",
        "outputId": "dded73b8-97fa-4ad7-b4e0-224d0e8d1ed4"
      },
      "execution_count": 10,
      "outputs": [
        {
          "output_type": "stream",
          "name": "stdout",
          "text": [
            "\n",
            "Total Images Decoded: 63\n",
            "Images saved in: /content/decoded_images\n",
            "Attempting to display: /content/decoded_images/image_1.png\n",
            "Error: /content/decoded_images/image_1.png is not a valid image file.\n",
            "Attempting to display: /content/decoded_images/image_2.png\n",
            "Error: /content/decoded_images/image_2.png is not a valid image file.\n",
            "Attempting to display: /content/decoded_images/image_3.png\n",
            "Error: /content/decoded_images/image_3.png is not a valid image file.\n",
            "Attempting to display: /content/decoded_images/image_4.png\n",
            "Error: /content/decoded_images/image_4.png is not a valid image file.\n",
            "Attempting to display: /content/decoded_images/image_5.png\n",
            "Error: /content/decoded_images/image_5.png is not a valid image file.\n"
          ]
        }
      ]
    },
    {
      "cell_type": "code",
      "source": [],
      "metadata": {
        "id": "DM9jqku9RZRg"
      },
      "execution_count": null,
      "outputs": []
    },
    {
      "cell_type": "code",
      "source": [
        "# Error Analysis\n",
        "if error_logs:\n",
        "    print(f\"\\nError Analysis Sample (first 5 errors):\")\n",
        "    for err in error_logs[:5]:\n",
        "        print(err)\n",
        "else:\n",
        "    print(\"No errors encountered.\")"
      ],
      "metadata": {
        "colab": {
          "base_uri": "https://localhost:8080/"
        },
        "id": "GXquY2SJQm7w",
        "outputId": "9c415a53-97eb-4317-d616-04b2b92a952f"
      },
      "execution_count": 11,
      "outputs": [
        {
          "output_type": "stream",
          "name": "stdout",
          "text": [
            "\n",
            "Error Analysis Sample (first 5 errors):\n",
            "2024-11-18T07:29:54.994500 IndexOutOfBoundsException in module user_activity\n",
            "NullPointerException at line 42 2024-11-18T18:18:45.994516\n",
            "2024-11-18T05:09:49.994541 user=user_639 ip=244.92.54.27 action=ERROR\n",
            "2024-11-18T07:37:00.994567 NullPointerException at line 42\n",
            "NullPointerException at line 42 2024-11-18T10:35:07.994582\n"
          ]
        }
      ]
    },
    {
      "cell_type": "code",
      "source": [],
      "metadata": {
        "id": "7M4Gh2fZRCZI"
      },
      "execution_count": null,
      "outputs": []
    }
  ]
}